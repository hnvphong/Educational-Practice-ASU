{
 "cells": [
  {
   "cell_type": "markdown",
   "id": "191ec6ba",
   "metadata": {},
   "source": [
    "# Titanic - Machine Learning from Disaster at kaggle"
   ]
  },
  {
   "cell_type": "markdown",
   "id": "ee3920ea",
   "metadata": {},
   "source": [
    "Добавьте необходимые пакеты для работы"
   ]
  },
  {
   "cell_type": "code",
   "execution_count": 1,
   "id": "90566d8c",
   "metadata": {},
   "outputs": [],
   "source": [
    "import numpy as np\n",
    "import pandas as pd\n",
    "import seaborn as sns\n",
    "import matplotlib.pyplot as plt\n",
    "from sklearn.ensemble import RandomForestClassifier"
   ]
  },
  {
   "cell_type": "markdown",
   "id": "6bc99309",
   "metadata": {},
   "source": [
    "Скачать данные для работы"
   ]
  },
  {
   "cell_type": "code",
   "execution_count": 2,
   "id": "e56ba234",
   "metadata": {},
   "outputs": [],
   "source": [
    "train = pd.read_csv(\"./train.csv\")\n",
    "test = pd.read_csv(\"./test.csv\")"
   ]
  },
  {
   "cell_type": "markdown",
   "id": "e7becdf1",
   "metadata": {},
   "source": [
    "Просмотр входных данных"
   ]
  },
  {
   "cell_type": "code",
   "execution_count": 3,
   "id": "acf5be57",
   "metadata": {},
   "outputs": [
    {
     "data": {
      "text/html": [
       "<div>\n",
       "<style scoped>\n",
       "    .dataframe tbody tr th:only-of-type {\n",
       "        vertical-align: middle;\n",
       "    }\n",
       "\n",
       "    .dataframe tbody tr th {\n",
       "        vertical-align: top;\n",
       "    }\n",
       "\n",
       "    .dataframe thead th {\n",
       "        text-align: right;\n",
       "    }\n",
       "</style>\n",
       "<table border=\"1\" class=\"dataframe\">\n",
       "  <thead>\n",
       "    <tr style=\"text-align: right;\">\n",
       "      <th></th>\n",
       "      <th>PassengerId</th>\n",
       "      <th>Survived</th>\n",
       "      <th>Pclass</th>\n",
       "      <th>Name</th>\n",
       "      <th>Sex</th>\n",
       "      <th>Age</th>\n",
       "      <th>SibSp</th>\n",
       "      <th>Parch</th>\n",
       "      <th>Ticket</th>\n",
       "      <th>Fare</th>\n",
       "      <th>Cabin</th>\n",
       "      <th>Embarked</th>\n",
       "    </tr>\n",
       "  </thead>\n",
       "  <tbody>\n",
       "    <tr>\n",
       "      <th>0</th>\n",
       "      <td>1</td>\n",
       "      <td>0</td>\n",
       "      <td>3</td>\n",
       "      <td>Braund, Mr. Owen Harris</td>\n",
       "      <td>male</td>\n",
       "      <td>22.0</td>\n",
       "      <td>1</td>\n",
       "      <td>0</td>\n",
       "      <td>A/5 21171</td>\n",
       "      <td>7.2500</td>\n",
       "      <td>NaN</td>\n",
       "      <td>S</td>\n",
       "    </tr>\n",
       "    <tr>\n",
       "      <th>1</th>\n",
       "      <td>2</td>\n",
       "      <td>1</td>\n",
       "      <td>1</td>\n",
       "      <td>Cumings, Mrs. John Bradley (Florence Briggs Th...</td>\n",
       "      <td>female</td>\n",
       "      <td>38.0</td>\n",
       "      <td>1</td>\n",
       "      <td>0</td>\n",
       "      <td>PC 17599</td>\n",
       "      <td>71.2833</td>\n",
       "      <td>C85</td>\n",
       "      <td>C</td>\n",
       "    </tr>\n",
       "    <tr>\n",
       "      <th>2</th>\n",
       "      <td>3</td>\n",
       "      <td>1</td>\n",
       "      <td>3</td>\n",
       "      <td>Heikkinen, Miss. Laina</td>\n",
       "      <td>female</td>\n",
       "      <td>26.0</td>\n",
       "      <td>0</td>\n",
       "      <td>0</td>\n",
       "      <td>STON/O2. 3101282</td>\n",
       "      <td>7.9250</td>\n",
       "      <td>NaN</td>\n",
       "      <td>S</td>\n",
       "    </tr>\n",
       "    <tr>\n",
       "      <th>3</th>\n",
       "      <td>4</td>\n",
       "      <td>1</td>\n",
       "      <td>1</td>\n",
       "      <td>Futrelle, Mrs. Jacques Heath (Lily May Peel)</td>\n",
       "      <td>female</td>\n",
       "      <td>35.0</td>\n",
       "      <td>1</td>\n",
       "      <td>0</td>\n",
       "      <td>113803</td>\n",
       "      <td>53.1000</td>\n",
       "      <td>C123</td>\n",
       "      <td>S</td>\n",
       "    </tr>\n",
       "    <tr>\n",
       "      <th>4</th>\n",
       "      <td>5</td>\n",
       "      <td>0</td>\n",
       "      <td>3</td>\n",
       "      <td>Allen, Mr. William Henry</td>\n",
       "      <td>male</td>\n",
       "      <td>35.0</td>\n",
       "      <td>0</td>\n",
       "      <td>0</td>\n",
       "      <td>373450</td>\n",
       "      <td>8.0500</td>\n",
       "      <td>NaN</td>\n",
       "      <td>S</td>\n",
       "    </tr>\n",
       "  </tbody>\n",
       "</table>\n",
       "</div>"
      ],
      "text/plain": [
       "   PassengerId  Survived  Pclass  \\\n",
       "0            1         0       3   \n",
       "1            2         1       1   \n",
       "2            3         1       3   \n",
       "3            4         1       1   \n",
       "4            5         0       3   \n",
       "\n",
       "                                                Name     Sex   Age  SibSp  \\\n",
       "0                            Braund, Mr. Owen Harris    male  22.0      1   \n",
       "1  Cumings, Mrs. John Bradley (Florence Briggs Th...  female  38.0      1   \n",
       "2                             Heikkinen, Miss. Laina  female  26.0      0   \n",
       "3       Futrelle, Mrs. Jacques Heath (Lily May Peel)  female  35.0      1   \n",
       "4                           Allen, Mr. William Henry    male  35.0      0   \n",
       "\n",
       "   Parch            Ticket     Fare Cabin Embarked  \n",
       "0      0         A/5 21171   7.2500   NaN        S  \n",
       "1      0          PC 17599  71.2833   C85        C  \n",
       "2      0  STON/O2. 3101282   7.9250   NaN        S  \n",
       "3      0            113803  53.1000  C123        S  \n",
       "4      0            373450   8.0500   NaN        S  "
      ]
     },
     "execution_count": 3,
     "metadata": {},
     "output_type": "execute_result"
    }
   ],
   "source": [
    "train.head()"
   ]
  },
  {
   "cell_type": "markdown",
   "id": "6aa5c24a",
   "metadata": {},
   "source": [
    "Данные имеют столбцы:\n",
    "<br>- Survival: выжил ли пассажир или нет (0 или 1)\n",
    "<br>- Pclass: Социально-экономический класс\n",
    "<br>  + Upper: 1\n",
    "<br>  + Middle: 2\n",
    "<br>  + Lower: 3\n",
    "<br>- Sex: пол пассажира (мужской или женский)\n",
    "<br>- Age: возраст в годах (возраст является дробным, если он меньше 1. Если возраст оценивается, он         указывается в виде xx,5)\n",
    "<br>- SibSp: Количество братьев и сестер/супругов на борту Титаника\n",
    "<br>- Parch: Количество родителей/детей на борту Титаника\n",
    "<br>- Ticker: номер билета\n",
    "<br>- Fare: Пассажирский тариф\n",
    "<br>- Cabin: Номер каюты\n",
    "<br>- Embarked: порт посадки\n",
    "<br>*Некоторые строки в столбце данных отсутствуют"
   ]
  },
  {
   "cell_type": "markdown",
   "id": "230aa01a",
   "metadata": {},
   "source": [
    " ## Наблюдайте за факторами, которые, как считается, влияют на выживание пассажиров"
   ]
  },
  {
   "cell_type": "markdown",
   "id": "b44ef5ef",
   "metadata": {},
   "source": [
    "Общее количество пассажиров:"
   ]
  },
  {
   "cell_type": "code",
   "execution_count": 4,
   "id": "1ae9cdea",
   "metadata": {},
   "outputs": [
    {
     "data": {
      "text/plain": [
       "891"
      ]
     },
     "execution_count": 4,
     "metadata": {},
     "output_type": "execute_result"
    }
   ],
   "source": [
    "len(train)"
   ]
  },
  {
   "cell_type": "markdown",
   "id": "7f769c82",
   "metadata": {},
   "source": [
    "Соотношение выживаемости: 0 = нет выживания, 1 = выживание"
   ]
  },
  {
   "cell_type": "code",
   "execution_count": 5,
   "id": "d4c22333",
   "metadata": {},
   "outputs": [
    {
     "data": {
      "text/plain": [
       "<AxesSubplot:ylabel='Survived'>"
      ]
     },
     "execution_count": 5,
     "metadata": {},
     "output_type": "execute_result"
    },
    {
     "data": {
      "image/png": "[encoded data removed]",
      "text/plain": [
       "<Figure size 432x288 with 1 Axes>"
      ]
     },
     "metadata": {},
     "output_type": "display_data"
    }
   ],
   "source": [
    "train[\"Survived\"].value_counts().plot.pie(autopct=\"%1.1f%%\")"
   ]
  },
  {
   "cell_type": "markdown",
   "id": "56f2b5e8",
   "metadata": {},
   "source": [
    "Связь секса и выживания:"
   ]
  },
  {
   "cell_type": "code",
   "execution_count": 6,
   "id": "3e840479",
   "metadata": {},
   "outputs": [
    {
     "data": {
      "text/plain": [
       "<AxesSubplot:ylabel='Sex'>"
      ]
     },
     "execution_count": 6,
     "metadata": {},
     "output_type": "execute_result"
    },
    {
     "data": {
      "image/png": "[encoded data removed]",
      "text/plain": [
       "<Figure size 432x288 with 1 Axes>"
      ]
     },
     "metadata": {},
     "output_type": "display_data"
    }
   ],
   "source": [
    "df_male = train[(train[\"Survived\"] == 1) & (train[\"Sex\"] == \"male\")]\n",
    "df_female = train[(train[\"Survived\"] == 1) & (train[\"Sex\"] == \"female\")]\n",
    "df_sur = pd.concat([df_male, df_female])\n",
    "df_sur[\"Sex\"].value_counts().plot.pie(autopct=\"%1.1f%%\")"
   ]
  },
  {
   "cell_type": "markdown",
   "id": "cfbc60ba",
   "metadata": {},
   "source": [
    "Женщины выживают больше, чем мужчины после несчастных случаев.\n",
    "<br>\n",
    "<br>Связь социального класса и выживания:"
   ]
  },
  {
   "cell_type": "code",
   "execution_count": 7,
   "id": "88c68a7c",
   "metadata": {},
   "outputs": [
    {
     "data": {
      "text/plain": [
       "<AxesSubplot:xlabel='Pclass', ylabel='Count'>"
      ]
     },
     "execution_count": 7,
     "metadata": {},
     "output_type": "execute_result"
    },
    {
     "data": {
      "image/png": "[encoded data removed]",
      "text/plain": [
       "<Figure size 432x288 with 1 Axes>"
      ]
     },
     "metadata": {
      "needs_background": "light"
     },
     "output_type": "display_data"
    }
   ],
   "source": [
    "sns.histplot(data=train, x=\"Pclass\", hue=\"Survived\", multiple=\"stack\")"
   ]
  },
  {
   "cell_type": "markdown",
   "id": "06749b2c",
   "metadata": {},
   "source": [
    "Люди из высшего класса имеют более высокую выживаемость.\n",
    "<br>\n",
    "<br>Связь возраста и выживания:"
   ]
  },
  {
   "cell_type": "code",
   "execution_count": 8,
   "id": "8e97deab",
   "metadata": {},
   "outputs": [
    {
     "data": {
      "text/plain": [
       "<AxesSubplot:xlabel='Age', ylabel='Count'>"
      ]
     },
     "execution_count": 8,
     "metadata": {},
     "output_type": "execute_result"
    },
    {
     "data": {
      "image/png": "[encoded data removed]",
      "text/plain": [
       "<Figure size 432x288 with 1 Axes>"
      ]
     },
     "metadata": {
      "needs_background": "light"
     },
     "output_type": "display_data"
    }
   ],
   "source": [
    "sns.histplot(data=train, x=\"Age\", hue=\"Survived\", multiple=\"stack\")"
   ]
  },
  {
   "cell_type": "markdown",
   "id": "2a1310c6",
   "metadata": {},
   "source": [
    "Выживших детей было больше, чем пожилых людей, причем большинство составляли взрослые и люди среднего возраста.\n",
    "<br>\n",
    "<br>Используйте матрицу корреляции, чтобы просмотреть все факторы:"
   ]
  },
  {
   "cell_type": "code",
   "execution_count": 9,
   "id": "a41e5992",
   "metadata": {},
   "outputs": [
    {
     "data": {
      "image/png": "[encoded data removed]",
      "text/plain": [
       "<Figure size 432x288 with 2 Axes>"
      ]
     },
     "metadata": {
      "needs_background": "light"
     },
     "output_type": "display_data"
    }
   ],
   "source": [
    "corr = train.corr()\n",
    "dataplot = sns.heatmap(data=corr, annot=True)"
   ]
  },
  {
   "cell_type": "markdown",
   "id": "b9724472",
   "metadata": {},
   "source": [
    "Из матрицы видно, что фактор <Fare> положительно коррелирует с вероятностью выживания, а это означает, что человек, купивший билет с более высокой ценой, имеет больше шансов выжить.\n",
    "<br>"
   ]
  },
  {
   "cell_type": "markdown",
   "id": "e3d08a34",
   "metadata": {},
   "source": [
    " ## Использование контролируемого алгоритма машинного обучения RandomForest для прогнозирования классификации"
   ]
  },
  {
   "cell_type": "markdown",
   "id": "b670ee9c",
   "metadata": {},
   "source": [
    "Вход алгоритма может быть только в виде чисел. А входные данные помимо количественных данных, есть еще и категориальные данные, поэтому необходимо обрабатывать данные."
   ]
  },
  {
   "cell_type": "code",
   "execution_count": 10,
   "id": "9b3c140e",
   "metadata": {},
   "outputs": [],
   "source": [
    "#создать два массива для выбора числовых и категориальных атрибутов\n",
    "num_attrs = [\"Pclass\", \"Age\", \"SibSp\", \"Parch\", \"Fare\"]\n",
    "cat_attrs = [\"Sex\"]"
   ]
  },
  {
   "cell_type": "code",
   "execution_count": 11,
   "id": "1d606ecf",
   "metadata": {},
   "outputs": [],
   "source": [
    "attribs = [\"Sex\"]\n",
    "\n",
    "def convert_cat(df, attrs):\n",
    "    for col in attrs:\n",
    "        df[col] = df[col].astype('category')\n",
    "        \n",
    "convert_cat(train, attribs)\n",
    "convert_cat(test, attribs)"
   ]
  },
  {
   "cell_type": "code",
   "execution_count": 12,
   "id": "7447f91a",
   "metadata": {},
   "outputs": [],
   "source": [
    "#преобразователь для выборки только полезных атрибутов\n",
    "from sklearn.base import BaseEstimator, TransformerMixin\n",
    "\n",
    "class DataFrameSelector(BaseEstimator, TransformerMixin):\n",
    "    def __init__(self, attrs):\n",
    "        self.attrs = attrs\n",
    "    def fit(self, X, y=None):\n",
    "        return self\n",
    "    def transform(self, X, y=None):\n",
    "        return X[self.attrs].values"
   ]
  },
  {
   "cell_type": "code",
   "execution_count": 13,
   "id": "6f04248b",
   "metadata": {},
   "outputs": [],
   "source": [
    "#numerical pipeline\n",
    "from sklearn.impute import SimpleImputer\n",
    "from sklearn.pipeline import Pipeline\n",
    "\n",
    "num_pipeline = Pipeline([\n",
    "    (\"selector\", DataFrameSelector(num_attrs)),\n",
    "    #NaN\n",
    "    (\"imputer\", SimpleImputer(strategy=\"median\"))\n",
    "])"
   ]
  },
  {
   "cell_type": "code",
   "execution_count": 14,
   "id": "0454fa72",
   "metadata": {},
   "outputs": [],
   "source": [
    "#categorical pipeline\n",
    "from sklearn.preprocessing import OneHotEncoder\n",
    "\n",
    "cat_pipeline = Pipeline([\n",
    "    (\"selector\", DataFrameSelector(cat_attrs)),\n",
    "    #NaN\n",
    "    (\"imputer\", SimpleImputer(strategy=\"most_frequent\")),\n",
    "    (\"label_binarize\", OneHotEncoder(sparse=False))\n",
    "])"
   ]
  },
  {
   "cell_type": "code",
   "execution_count": 15,
   "id": "76cb9efd",
   "metadata": {},
   "outputs": [],
   "source": [
    "#объедините эти два конвейера, используя FeatureUnion, и поместите их в фрейм данных обучения\n",
    "from sklearn.pipeline import FeatureUnion\n",
    "\n",
    "full_pipeline = FeatureUnion([\n",
    "    (\"num\", num_pipeline),\n",
    "    (\"cat\", cat_pipeline)\n",
    "])\n",
    "\n",
    "train_prepared = full_pipeline.fit_transform(train)\n",
    "train_prepared_df = pd.DataFrame(train_prepared, columns=[\n",
    "    \"Pclass\", \"Age\", \"SibSp\", \"Parch\", \"Fare\", \"Female\", \"Male\"])\n",
    "test_prepared = full_pipeline.fit_transform(test)\n",
    "test_prepared_df = pd.DataFrame(test_prepared, columns=[\n",
    "    \"Pclass\", \"Age\", \"SibSp\", \"Parch\", \"Fare\", \"Female\", \"Male\"])"
   ]
  },
  {
   "cell_type": "code",
   "execution_count": 16,
   "id": "8fd78ba4",
   "metadata": {},
   "outputs": [],
   "source": [
    "labels = train[\"Survived\"]\n",
    "\n",
    "model = RandomForestClassifier(n_estimators=100, max_depth=5, max_features='sqrt')\n",
    "model.fit(train_prepared_df, labels)\n",
    "predictions = model.predict(test_prepared_df)\n",
    "\n",
    "output = pd.DataFrame({'PassengerId': test.PassengerId, 'Survived': predictions})\n",
    "output.to_csv('./submission.csv', index=False)"
   ]
  },
  {
   "cell_type": "code",
   "execution_count": 17,
   "id": "92b16cfa",
   "metadata": {},
   "outputs": [
    {
     "data": {
      "text/html": [
       "<div>\n",
       "<style scoped>\n",
       "    .dataframe tbody tr th:only-of-type {\n",
       "        vertical-align: middle;\n",
       "    }\n",
       "\n",
       "    .dataframe tbody tr th {\n",
       "        vertical-align: top;\n",
       "    }\n",
       "\n",
       "    .dataframe thead th {\n",
       "        text-align: right;\n",
       "    }\n",
       "</style>\n",
       "<table border=\"1\" class=\"dataframe\">\n",
       "  <thead>\n",
       "    <tr style=\"text-align: right;\">\n",
       "      <th></th>\n",
       "      <th>PassengerId</th>\n",
       "      <th>Survived</th>\n",
       "    </tr>\n",
       "  </thead>\n",
       "  <tbody>\n",
       "    <tr>\n",
       "      <th>0</th>\n",
       "      <td>892</td>\n",
       "      <td>0</td>\n",
       "    </tr>\n",
       "    <tr>\n",
       "      <th>1</th>\n",
       "      <td>893</td>\n",
       "      <td>0</td>\n",
       "    </tr>\n",
       "    <tr>\n",
       "      <th>2</th>\n",
       "      <td>894</td>\n",
       "      <td>0</td>\n",
       "    </tr>\n",
       "    <tr>\n",
       "      <th>3</th>\n",
       "      <td>895</td>\n",
       "      <td>0</td>\n",
       "    </tr>\n",
       "    <tr>\n",
       "      <th>4</th>\n",
       "      <td>896</td>\n",
       "      <td>1</td>\n",
       "    </tr>\n",
       "  </tbody>\n",
       "</table>\n",
       "</div>"
      ],
      "text/plain": [
       "   PassengerId  Survived\n",
       "0          892         0\n",
       "1          893         0\n",
       "2          894         0\n",
       "3          895         0\n",
       "4          896         1"
      ]
     },
     "execution_count": 17,
     "metadata": {},
     "output_type": "execute_result"
    }
   ],
   "source": [
    "output.head()"
   ]
  }
 ],
 "metadata": {
  "kernelspec": {
   "display_name": "Python 3 (ipykernel)",
   "language": "python",
   "name": "python3"
  },
  "language_info": {
   "codemirror_mode": {
    "name": "ipython",
    "version": 3
   },
   "file_extension": ".py",
   "mimetype": "text/x-python",
   "name": "python",
   "nbconvert_exporter": "python",
   "pygments_lexer": "ipython3",
   "version": "3.9.13"
  }
 },
 "nbformat": 4,
 "nbformat_minor": 5
}
